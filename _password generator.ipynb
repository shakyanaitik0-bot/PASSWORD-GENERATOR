{
 "cells": [
  {
   "cell_type": "code",
   "execution_count": null,
   "id": "97e73e9d-506c-4515-8781-750ad6aeb471",
   "metadata": {},
   "outputs": [],
   "source": [
    "import random\n",
    "import string\n",
    "\n",
    "def build_charset(include_upper, include_nums, include_specials):\n",
    "    base = list(string.ascii_lowercase)\n",
    "    if include_upper:\n",
    "        base.extend(string.ascii_uppercase)\n",
    "    if include_nums:\n",
    "        base.extend(string.digits)\n",
    "    if include_specials:\n",
    "        base.extend(\"!@#$%^&*()_+-=[]{}|:,.<>?/\")\n",
    "    return base\n",
    "\n",
    "def ask_yes_no(question):\n",
    "    return input(question + \" [y/n]: \").strip().lower() == 'y'\n",
    "\n",
    "def make_password(length, charset):\n",
    "    if not charset:\n",
    "        return \"⚠️ Cannot generate password: No character set selected.\"\n",
    "    return ''.join(random.choice(charset) for _ in range(length))\n",
    "\n",
    "def run_password_tool():\n",
    "    print(\"🔒 SecurePass Generator\\n\")\n",
    "\n",
    "    try:\n",
    "        size = int(input(\"📏 Desired password length: \"))\n",
    "        if size < 1:\n",
    "            print(\"❗ Length must be at least 1.\")\n",
    "            return\n",
    "    except ValueError:\n",
    "        print(\"⚠️ Please enter a valid number.\")\n",
    "        return\n",
    "\n",
    "    opt_upper = ask_yes_no(\"Include uppercase letters?\")\n",
    "    opt_numbers = ask_yes_no(\"Include numbers?\")\n",
    "    opt_symbols = ask_yes_no(\"Include special characters?\")\n",
    "\n",
    "    chars = build_charset(opt_upper, opt_numbers, opt_symbols)\n",
    "    password = make_password(size, chars)\n",
    "\n",
    "    print(\"\\n🔑 Your password:\")\n",
    "    print(password)\n",
    "\n",
    "if __name__ == \"__main__\":\n",
    "    run_password_tool()\n"
   ]
  }
 ],
 "metadata": {
  "kernelspec": {
   "display_name": "Python [conda env:base] *",
   "language": "python",
   "name": "conda-base-py"
  },
  "language_info": {
   "codemirror_mode": {
    "name": "ipython",
    "version": 3
   },
   "file_extension": ".py",
   "mimetype": "text/x-python",
   "name": "python",
   "nbconvert_exporter": "python",
   "pygments_lexer": "ipython3",
   "version": "3.12.7"
  }
 },
 "nbformat": 4,
 "nbformat_minor": 5
}
